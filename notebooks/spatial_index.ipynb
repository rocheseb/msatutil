{
 "cells": [
  {
   "cell_type": "code",
   "execution_count": null,
   "metadata": {},
   "outputs": [],
   "source": [
    "import os\n",
    "from msatutil.make_spatial_index import save_geojson"
   ]
  },
  {
   "cell_type": "markdown",
   "metadata": {},
   "source": [
    "## Arguments"
   ]
  },
  {
   "cell_type": "code",
   "execution_count": null,
   "metadata": {},
   "outputs": [],
   "source": [
    "## Testing locally\n",
    "L3_mosaics_catalogue_pth = 'gs://path/to/L3_mosaics.csv'\n",
    "load_from_chkpt = True\n",
    "simplify_tol = None\n",
    "working_dir = '/Volumes/metis/MAIR/Spatial_catalogue'  # '~/msat_spatial_idx'\n",
    "save_frequency = 3 # for testingload_from_chkpt=True\n",
    "out_path = 'test_march_19'\n",
    "l2_data=False\n"
   ]
  },
  {
   "cell_type": "code",
   "execution_count": null,
   "metadata": {},
   "outputs": [],
   "source": [
    "## Testing on cloud with L2 products\n",
    "L3_mosaics_catalogue_pth = 'gs://path/to/L2_pp.csv'\n",
    "load_from_chkpt = True\n",
    "simplify_tol = 0.01 \n",
    "working_dir = '~/msat_spatial_idx' #'/mnt/share1/mair_spatial_idx' # '/Volumes/metis/MAIR/Spatial_catalogue'  # \n",
    "save_frequency = 3 # for testingload_from_chkpt=True\n",
    "out_path = None #'test_march_19'\n",
    "l2_data=True"
   ]
  },
  {
   "cell_type": "markdown",
   "metadata": {},
   "source": [
    "### Example calling the function in python"
   ]
  },
  {
   "cell_type": "code",
   "execution_count": null,
   "metadata": {},
   "outputs": [],
   "source": [
    "out_pth_shp, out_pth_geojson = save_geojson(\n",
    "    L3_mosaics_catalogue_pth, working_dir, load_from_chkpt, simplify_tol, save_frequency, out_path, l2_data)\n",
    "print(f'File saved to {out_pth_shp} and {out_pth_geojson}')"
   ]
  },
  {
   "cell_type": "markdown",
   "metadata": {},
   "source": [
    "### Example command-line interface"
   ]
  },
  {
   "cell_type": "code",
   "execution_count": null,
   "metadata": {},
   "outputs": [],
   "source": [
    "!python ../msatutil/make_spatial_index.py -c {L3_mosaics_catalogue_pth} -w {working_dir} -o {out_path}"
   ]
  }
 ],
 "metadata": {
  "kernelspec": {
   "display_name": "Python 3",
   "language": "python",
   "name": "python3"
  },
  "language_info": {
   "codemirror_mode": {
    "name": "ipython",
    "version": 3
   },
   "file_extension": ".py",
   "mimetype": "text/x-python",
   "name": "python",
   "nbconvert_exporter": "python",
   "pygments_lexer": "ipython3",
   "version": "3.8.8"
  }
 },
 "nbformat": 4,
 "nbformat_minor": 2
}
